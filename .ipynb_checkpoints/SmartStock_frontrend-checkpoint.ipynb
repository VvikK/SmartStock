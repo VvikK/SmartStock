{
 "cells": [
  {
   "cell_type": "code",
   "execution_count": 1,
   "id": "4e228272",
   "metadata": {},
   "outputs": [],
   "source": [
    "#Backend People start here\n",
    "import numpy as np\n",
    "import pandas as pd\n",
    "import matplotlib.pyplot as plt\n",
    "import yfinance as yf\n",
    "from statsmodels.tsa.seasonal import STL\n",
    "from numpy import fft\n",
    "import pylab as pl\n",
    "from scipy.optimize import curve_fit\n",
    "import math"
   ]
  },
  {
   "cell_type": "code",
   "execution_count": 2,
   "id": "53057abc",
   "metadata": {},
   "outputs": [
    {
     "name": "stdout",
     "output_type": "stream",
     "text": [
      "MSFT\n"
     ]
    }
   ],
   "source": [
    "predictionValue = 1000\n",
    "\n",
    "v = False\n",
    "while not v:\n",
    "    ticker = input()\n",
    "    data = yf.Ticker(ticker).history(period='1y')\n",
    "    try:\n",
    "        data.iloc[1]\n",
    "        break;\n",
    "    except:\n",
    "        print(\"Please input a valid Ticker\")\n",
    "        v = False\n",
    "#if(ticker.info)\n",
    "\n",
    "    \n",
    "\n",
    "\n"
   ]
  },
  {
   "cell_type": "code",
   "execution_count": 3,
   "id": "7de38e30",
   "metadata": {},
   "outputs": [],
   "source": [
    "hiLowAvg = data\n",
    "hiLowAvg['Average Price'] = (hiLowAvg['High'] + hiLowAvg['Low'])/2\n",
    "cols = data.columns\n",
    "for i in cols:\n",
    "    if i == 'Average Price':\n",
    "        continue\n",
    "    hiLowAvg = hiLowAvg.drop(columns=i)"
   ]
  },
  {
   "cell_type": "code",
   "execution_count": 4,
   "id": "faa54293",
   "metadata": {},
   "outputs": [],
   "source": [
    "stl = STL(hiLowAvg, period = 5)\n",
    "result = stl.fit()\n",
    "\n",
    "trend, seasonal, residual = result.trend, result.seasonal, result.resid"
   ]
  },
  {
   "cell_type": "code",
   "execution_count": 5,
   "id": "302b984a",
   "metadata": {},
   "outputs": [],
   "source": [
    "def fourierExtrapolation(x, n_predict):\n",
    "    n = x.size\n",
    "    n_harm = 10                     # number of harmonics in model\n",
    "    t = np.arange(0, n)\n",
    "    p = np.polyfit(t, x, 1)         # find linear trend in x\n",
    "    x_notrend = x - p[0] * t        # detrended x\n",
    "    x_freqdom = fft.fft(x_notrend)  # detrended x in frequency domain\n",
    "    f = fft.fftfreq(n)              # frequencies\n",
    "    indexes = list(range(n))    \n",
    "    # sort indexes by frequency, lower -> higher\n",
    "    indexes.sort(key = lambda i: np.absolute(f[i]))\n",
    " \n",
    "    t = np.arange(0, n + n_predict)\n",
    "    restored_sig = np.zeros(t.size)\n",
    "    for i in indexes[:1 + n_harm * 2]:\n",
    "        ampli = np.absolute(x_freqdom[i]) / n   # amplitude\n",
    "        phase = np.angle(x_freqdom[i])          # phase\n",
    "        restored_sig += ampli * np.cos(2 * np.pi * f[i] * t + phase)\n",
    "    return restored_sig + p[0] * t\n",
    "\n",
    "extrapolation = fourierExtrapolation(seasonal, predictionValue)\n",
    "seasonalexpo=extrapolation\n",
    "extrapolation = fourierExtrapolation(trend, predictionValue)\n",
    "trendexpo=extrapolation"
   ]
  },
  {
   "cell_type": "code",
   "execution_count": 6,
   "id": "dc6b644c",
   "metadata": {},
   "outputs": [],
   "source": [
    "trend, seasonal, residual = result.trend, result.seasonal, result.resid\n",
    "\n",
    "residual = residual.to_numpy()\n",
    "residual = list(residual)\n",
    "\n",
    "for i in range(predictionValue):\n",
    "    residual.append(residual[-1])\n",
    "    \n",
    "residual = np.asarray(residual)\n",
    "expo=trendexpo+seasonalexpo+residual\n",
    "actual = trend+seasonal+residual[0:residual.size-predictionValue]"
   ]
  },
  {
   "cell_type": "code",
   "execution_count": 7,
   "id": "60b236d4",
   "metadata": {},
   "outputs": [],
   "source": [
    "#Trend-based Calculations\n",
    "def long_predict(t):\n",
    "    theorVal = ((trendexpo[actual.size+t] - (actual[actual.size-1]))/actual[actual.size-1])*100\n",
    "    res = 0\n",
    "    count = 0\n",
    "    for i in residual:\n",
    "        if i > 1:\n",
    "           res += i\n",
    "           count+=1\n",
    "    if count > 0:\n",
    "        uncer = ((res/count)/trendexpo[actual.size+29])*100\n",
    "    else:\n",
    "        uncer = 0\n",
    "\n",
    "    increase_range = (theorVal - uncer, theorVal + uncer)\n",
    "    return increase_range\n",
    "#30 day increase predictions\n",
    "month_fore = long_predict(29)\n",
    "year_fore = long_predict(365)\n",
    "#Short Term \n",
    "\n",
    "#Determine current trajectory\n",
    "stock_state = None\n",
    "buy_sell_rec = None\n",
    "\n",
    "traj = np.array(seasonalexpo[actual.size-5:actual.size+10])\n",
    "x_ax = np.array(range(1, 16))\n",
    "\n",
    "def model_f(x, a, b, c):\n",
    "    return a*(x-b)**2 + c\n",
    "\n",
    "popt, pcov = curve_fit(model_f, x_ax, traj, p0 = [1, 1, 1])\n",
    "\n",
    "if popt[0] > 0:\n",
    "    stock_state = \"Upwards Trajectory\"\n",
    "elif popt[0] < 0:\n",
    "    stock_state = \"Downwards Trajectory\"\n",
    "\n",
    "if stock_state == \"Upwards Trajectory\":\n",
    "    buy_sell_rec = \"Buy Soon\"\n",
    "elif stock_state == \"Downwards Trajectory\":\n",
    "    buy_sell_rec = \"Sell Soon\"\n"
   ]
  },
  {
   "cell_type": "code",
   "execution_count": 8,
   "id": "ab6f7de5",
   "metadata": {},
   "outputs": [],
   "source": [
    "year_high = max(data['High'])\n",
    "year_low = min(data['Low'])\n",
    "vol = data['Volume'].to_numpy()\n",
    "volume = vol[vol.size-1]\n",
    "op = data['Open'].to_numpy()\n",
    "open_ = op[op.size-1]\n",
    "cl = data['Close'].to_numpy()\n",
    "close_ = cl[cl.size-1]"
   ]
  },
  {
   "cell_type": "code",
   "execution_count": 14,
   "id": "97ee6ddf",
   "metadata": {},
   "outputs": [
    {
     "name": "stdout",
     "output_type": "stream",
     "text": [
      "Ticker: MSFT\n",
      "________________________________________________________________________________\n",
      "                                Information:                                    \n",
      "52-wk High: $348.14\n",
      "52-wk Low: $241.51\n",
      "Volume: 29572500\n",
      "Today's Open: $255.72\n",
      "Today's Close: $256.72\n",
      "________________________________________________________________________________\n",
      "                                 Predictions:                                   \n",
      "Short Term Trajectory: Downwards Trajectory\n",
      "Long Term Predictions (1mo): -0.58% to 1.47% predicted increase/decrease\n",
      "Long Term Predictions (1y): -3.27% to -1.21% predicted increase/decrease\n",
      "Short Term Buy/Sell Recommendations: Sell Soon\n",
      "________________________________________________________________________________\n",
      "                               YTD Stock History:                               \n"
     ]
    },
    {
     "data": {
      "image/png": "[encoded data removed]",
      "text/plain": [
       "<Figure size 720x288 with 1 Axes>"
      ]
     },
     "metadata": {
      "needs_background": "light"
     },
     "output_type": "display_data"
    }
   ],
   "source": [
    "print(\"Ticker: \" +ticker)\n",
    "plt.figure(figsize=(10,4))\n",
    "plt.plot((data[\"High\"]+data[\"Low\"])/2)\n",
    "print(\"________________________________________________________________________________\")\n",
    "print(\"                                Information:                                    \")\n",
    "print(\"52-wk High: $\" + str(round(year_high, 2)))\n",
    "print(\"52-wk Low: $\" + str(round(year_low, 2)))\n",
    "print(\"Volume: \" + str(volume))\n",
    "print(\"Today's Open: $\" + str(round(open_, 2)))\n",
    "print(\"Today's Close: $\" + str(round(close_, 2)))\n",
    "print(\"________________________________________________________________________________\")\n",
    "print(\"                                 Predictions:                                   \")\n",
    "print(\"Short Term Trajectory: \" + str(stock_state))\n",
    "print(\"Long Term Predictions (1mo): \" +  str(round(month_fore[0], 2)) + \"% to \" +str(round(month_fore[1], 2)) + \"% predicted increase/decrease\")\n",
    "print(\"Long Term Predictions (1y): \" + str(round(year_fore[0], 2)) + \"% to \" +str(round(year_fore[1], 2)) + \"% predicted increase/decrease\")\n",
    "print(\"Short Term Buy/Sell Recommendations: \" + str(buy_sell_rec))\n",
    "print(\"________________________________________________________________________________\")\n",
    "print(\"                               YTD Stock History:                               \")"
   ]
  },
  {
   "cell_type": "code",
   "execution_count": null,
   "id": "75249975",
   "metadata": {},
   "outputs": [],
   "source": []
  }
 ],
 "metadata": {
  "kernelspec": {
   "display_name": "Python 3 (ipykernel)",
   "language": "python",
   "name": "python3"
  },
  "language_info": {
   "codemirror_mode": {
    "name": "ipython",
    "version": 3
   },
   "file_extension": ".py",
   "mimetype": "text/x-python",
   "name": "python",
   "nbconvert_exporter": "python",
   "pygments_lexer": "ipython3",
   "version": "3.9.12"
  }
 },
 "nbformat": 4,
 "nbformat_minor": 5
}
